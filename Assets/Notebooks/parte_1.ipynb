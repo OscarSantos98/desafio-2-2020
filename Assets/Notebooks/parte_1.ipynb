{
  "nbformat": 4,
  "nbformat_minor": 0,
  "metadata": {
    "kernelspec": {
      "display_name": "Python 3.6",
      "language": "python",
      "name": "python3"
    },
    "language_info": {
      "codemirror_mode": {
        "name": "ipython",
        "version": 3
      },
      "file_extension": ".py",
      "mimetype": "text/x-python",
      "name": "python",
      "nbconvert_exporter": "python",
      "pygments_lexer": "ipython3",
      "version": "3.6.9"
    },
    "colab": {
      "name": "parte-1.ipynb",
      "provenance": [],
      "collapsed_sections": []
    }
  },
  "cells": [
    {
      "cell_type": "markdown",
      "metadata": {
        "collapsed": true,
        "id": "r887e3d4l0hl",
        "colab_type": "text"
      },
      "source": [
        "# MARATÓN BEHIND THE CODE 2020\n",
        "\n",
        "## DESAFÍO 2: PARTE 1"
      ]
    },
    {
      "cell_type": "markdown",
      "metadata": {
        "id": "EoQXnp-7l0ho",
        "colab_type": "text"
      },
      "source": [
        "### Introducción"
      ]
    },
    {
      "cell_type": "markdown",
      "metadata": {
        "id": "kdnofLERl0hq",
        "colab_type": "text"
      },
      "source": [
        "En proyectos de ciencia de datos destinados a construir modelos de *aprendizaje automático*, o aprendizaje estadístico, es muy inusual que los datos iniciales ya estén en el formato ideal para la construcción de modelos. Se requieren varios pasos intermedios de preprocesamiento de datos, como la codificación de variables categóricas, normalización de variables numéricas, tratamiento de datos faltantes, etc. La biblioteca **scikit-learn**, una de las bibliotecas de código abierto más populares para *aprendizaje automático* en el mundo, ya tiene varias funciones integradas para realizar las transformaciones de datos más utilizadas. Sin embargo, en un flujo común de un modelo de aprendizaje automático, es necesario aplicar estas transformaciones al menos dos veces: la primera vez para \"entrenar\" el modelo, y luego nuevamente cuando se envían nuevos datos como entrada para ser clasificados por este modelo.\n",
        "\n",
        "Para facilitar el trabajo con este tipo de flujos, scikit-learn también cuenta con una herramienta llamada **Pipeline**, que no es más que una lista ordenada de transformaciones que se deben aplicar a los datos. Para ayudar en el desarrollo y la gestión de todo el ciclo de vida de estas aplicaciones, además del uso de Pipelines, los equipos de científicos de datos pueden utilizar en conjunto **Watson Machine Learning**, que tiene docenas de herramientas para entrenar , gestionar, alojar y evaluar modelos basados ​​en el aprendizaje automático. Además, Watson Machine Learning es capaz de encapsular pipelines y modelos en una API lista para usar e integrarse con otras aplicaciones.\n",
        "\n",
        "Durante el desafío 2, aprenderás como crear un **Pipeline** para un modelo de clasificación y alojarlo como una API con la ayuda de Watson Machine Learning. Una vez alojado, puedes integrar el modelo creado con otras aplicaciones, como asistentes virtuales y más. En este notebook, se presentará un ejemplo funcional de creación de un modelo y un pipeline en scikit-learn (¡que puedes usar como plantilla para tu solución!)."
      ]
    },
    {
      "cell_type": "markdown",
      "metadata": {
        "id": "l8oZPbQSl0hs",
        "colab_type": "text"
      },
      "source": [
        "### Trabajando con Pipelines del scikit-learn"
      ]
    },
    {
      "cell_type": "code",
      "metadata": {
        "id": "DQmDXoFPl0hu",
        "colab_type": "code",
        "colab": {
          "base_uri": "https://localhost:8080/",
          "height": 68
        },
        "outputId": "6abbfdbc-e99c-4b85-8656-481afa3c3bf3"
      },
      "source": [
        "# Primero, realizamos la instalación de scikit-learn versión 0.20.0 en el Kernel de este notebook:\n",
        "!pip install scikit-learn==0.20.0 --upgrade"
      ],
      "execution_count": null,
      "outputs": [
        {
          "output_type": "stream",
          "text": [
            "Requirement already up-to-date: scikit-learn==0.20.0 in /usr/local/lib/python3.6/dist-packages (0.20.0)\n",
            "Requirement already satisfied, skipping upgrade: scipy>=0.13.3 in /usr/local/lib/python3.6/dist-packages (from scikit-learn==0.20.0) (1.4.1)\n",
            "Requirement already satisfied, skipping upgrade: numpy>=1.8.2 in /usr/local/lib/python3.6/dist-packages (from scikit-learn==0.20.0) (1.18.5)\n"
          ],
          "name": "stdout"
        }
      ]
    },
    {
      "cell_type": "code",
      "metadata": {
        "id": "0Uh_Zc4El0iA",
        "colab_type": "code",
        "colab": {}
      },
      "source": [
        "# A continuación importaremos varias bibliotecas que se utilizarán:\n",
        "\n",
        "# Biblioteca para trabajar con JSON\n",
        "import json\n",
        "\n",
        "# Biblioteca para realizar solicitudes HTTP\n",
        "import requests\n",
        "\n",
        "# Biblioteca para exploración y análisis de datos\n",
        "import pandas as pd\n",
        "\n",
        "# Biblioteca con métodos numéricos y representaciones matriciales\n",
        "import numpy as np\n",
        "\n",
        "# Biblioteca para construir un modelo basado en la técnica Gradient Boosting\n",
        "import xgboost as xgb\n",
        "\n",
        "# Paquetes scikit-learn para preprocesamiento de datos\n",
        "# \"SimpleImputer\" es una transformación para completar los valores faltantes en conjuntos de datos\n",
        "from sklearn.impute import SimpleImputer\n",
        "\n",
        "# Paquetes de scikit-learn para entrenamiento de modelos y construcción de pipelines\n",
        "# Método para separar el conjunto de datos en muestras de testes y entrenamiento\n",
        "from sklearn.model_selection import train_test_split\n",
        "# Método para crear modelos basados en árboles de decisión\n",
        "from sklearn.tree import DecisionTreeClassifier\n",
        "# Clase para crear una pipeline de machine-learning\n",
        "from sklearn.pipeline import Pipeline\n",
        "\n",
        "# Paquetes scikit-learn para evaluación de modelos\n",
        "# Métodos para la validación cruzada del modelo creado\n",
        "from sklearn.model_selection import KFold, cross_validate"
      ],
      "execution_count": null,
      "outputs": []
    },
    {
      "cell_type": "markdown",
      "metadata": {
        "id": "UkPlbyITl0iM",
        "colab_type": "text"
      },
      "source": [
        "### Importar  un .csv a tu proyecto en IBM Cloud Pak for Data al Kernel de este notebook"
      ]
    },
    {
      "cell_type": "markdown",
      "metadata": {
        "id": "t3XX8XpUl0iP",
        "colab_type": "text"
      },
      "source": [
        "Primero, importaremos el conjunto de datos proporcionado para el desafío, que ya está incluido en este proyecto.\n",
        "\n",
        "Puedes importar datos desde un archivo .csv directamente al Kernel del portátil como un Pandas DataFrame, que se usa ampliamente para manipular datos en Python.\n",
        "\n",
        "Para realizar la importación, simplemente selecciona la siguiente celda y siga las instrucciones en la imagen a continuación:\n",
        "\n",
        "![alt text](https://i.imgur.com/K1DwL9I.png \"importing-csv-as-df\")\n",
        "\n",
        "Después de seleccionar la opción **\"Insertar en el código\"**, la celda de abajo se llenará con el código necesario para importar y leer los datos en el archivo .csv como un Pandas DataFrame."
      ]
    },
    {
      "cell_type": "code",
      "metadata": {
        "id": "SmZOvUu52lDb",
        "colab_type": "code",
        "colab": {}
      },
      "source": [
        "df_data_1 = pd.read_csv('dataset-tortuga-desafio-2.csv', engine='python')"
      ],
      "execution_count": null,
      "outputs": []
    },
    {
      "cell_type": "code",
      "metadata": {
        "id": "vNIbYW0Fl0iR",
        "colab_type": "code",
        "colab": {}
      },
      "source": [
        ""
      ],
      "execution_count": null,
      "outputs": []
    },
    {
      "cell_type": "markdown",
      "metadata": {
        "id": "ryR7fIaul0ia",
        "colab_type": "text"
      },
      "source": [
        "Tenemos 16 columnas presentes en el set de datos proporcionado, 15 de las cuales son variables features (datos de entrada) y una de ellas es una variable target (que queremos que nuestro modelo va a predecir).\n",
        "\n",
        "Las variables features son:\n",
        "\n",
        "    Unnamed: 0                          - Esta columna no tiene nombre y debe ser eliminada del dataset\n",
        "    NAME                                - Nombre del estudiante\n",
        "    USER_ID                             - Número de identificación del estudiante\n",
        "    HOURS_DATASCIENCE                   - Número de horas de estudio en Data Science\n",
        "    HOURS_BACKEND                       - Número de horas de estudio en Web (Back-End)\n",
        "    HOURS_FRONTEND                      - Número de horas de estudio en Web (Front-End)\n",
        "    NUM_COURSES_BEGINNER_DATASCIENCE    - Número de cursos de nivel principiante en Data Science completados por el estudiante\n",
        "    NUM_COURSES_BEGINNER_BACKEND        - Número de cursos de nivel principiante en Web (Back-End) completados por el estudiante\n",
        "    NUM_COURSES_BEGINNER_FRONTEND       - Número de cursos de nivel principiante en Web (Front-End) completados por el estudiante\n",
        "    NUM_COURSES_ADVANCED_DATASCIENCE    - Número de cursos de nivel avanzado en Data Science completados por el estudiante\n",
        "    NUM_COURSES_ADVANCED_BACKEND        - Número de cursos de nivel avanzado en Web (Back-End) completados por el estudiante\n",
        "    NUM_COURSES_ADVANCED_FRONTEND       - Número de cursos de nivel avanzado en Web (Front-End) completados por el estudiante\n",
        "    AVG_SCORE_DATASCIENCE               - Promedio acumulado en cursos de Data Science completados por el estudiante\n",
        "    AVG_SCORE_BACKEND                   - Promedio acumulado en cursos de Web (Back-End) completados por el estudiante\n",
        "    AVG_SCORE_FRONTEND                  - Promedio acumulado en cursos de Web (Front-End) completados por el estudiante\n",
        "    \n",
        "La variable target es:\n",
        "\n",
        "    PROFILE                             - Perfil de carrera del estudiante (puede ser uno de 6)\n",
        "    \n",
        "        - beginner_front_end\n",
        "        - advanced_front_end\n",
        "        - beginner_back_end\n",
        "        - advanced_back_end\n",
        "        - beginner_data_science\n",
        "        - advanced_data_science\n",
        "        \n",
        "Con un modelo capaz de clasificar a un alumno en una de estas categorías, podemos recomendar contenidos a los alumnos de forma personalizada según las necesidades de cada alumno."
      ]
    },
    {
      "cell_type": "markdown",
      "metadata": {
        "id": "rcj-xer0l0ie",
        "colab_type": "text"
      },
      "source": [
        "### Explorando los datos proporcionados\n",
        "\n",
        "Podemos continuar la exploración de los datos proporcionados con la función ``info()``:"
      ]
    },
    {
      "cell_type": "code",
      "metadata": {
        "id": "eHDH8ICJl0if",
        "colab_type": "code",
        "colab": {
          "base_uri": "https://localhost:8080/",
          "height": 408
        },
        "outputId": "64e35f0f-56dd-45cc-d6a3-9a5edf7a0d8c"
      },
      "source": [
        "df_data_1.info()"
      ],
      "execution_count": null,
      "outputs": [
        {
          "output_type": "stream",
          "text": [
            "<class 'pandas.core.frame.DataFrame'>\n",
            "RangeIndex: 20000 entries, 0 to 19999\n",
            "Data columns (total 16 columns):\n",
            " #   Column                            Non-Null Count  Dtype  \n",
            "---  ------                            --------------  -----  \n",
            " 0   Unnamed: 0                        20000 non-null  int64  \n",
            " 1   NAME                              20000 non-null  object \n",
            " 2   USER_ID                           20000 non-null  int64  \n",
            " 3   HOURS_DATASCIENCE                 19986 non-null  float64\n",
            " 4   HOURS_BACKEND                     19947 non-null  float64\n",
            " 5   HOURS_FRONTEND                    19984 non-null  float64\n",
            " 6   NUM_COURSES_BEGINNER_DATASCIENCE  19974 non-null  float64\n",
            " 7   NUM_COURSES_BEGINNER_BACKEND      19982 non-null  float64\n",
            " 8   NUM_COURSES_BEGINNER_FRONTEND     19961 non-null  float64\n",
            " 9   NUM_COURSES_ADVANCED_DATASCIENCE  19998 non-null  float64\n",
            " 10  NUM_COURSES_ADVANCED_BACKEND      19992 non-null  float64\n",
            " 11  NUM_COURSES_ADVANCED_FRONTEND     19963 non-null  float64\n",
            " 12  AVG_SCORE_DATASCIENCE             19780 non-null  float64\n",
            " 13  AVG_SCORE_BACKEND                 19916 non-null  float64\n",
            " 14  AVG_SCORE_FRONTEND                19832 non-null  float64\n",
            " 15  PROFILE                           20000 non-null  object \n",
            "dtypes: float64(12), int64(2), object(2)\n",
            "memory usage: 2.4+ MB\n"
          ],
          "name": "stdout"
        }
      ]
    },
    {
      "cell_type": "markdown",
      "metadata": {
        "id": "Y2ZlsP_Ul0io",
        "colab_type": "text"
      },
      "source": [
        "### Visualización (visualizations)\n",
        "\n",
        "Para ver el conjunto de datos suministrado, podemos usar las bibliotecas ``matplotlib`` y ``seaborn``:"
      ]
    },
    {
      "cell_type": "code",
      "metadata": {
        "id": "JaSyEiNLl0iq",
        "colab_type": "code",
        "colab": {}
      },
      "source": [
        "import matplotlib.pyplot as plt\n",
        "import seaborn as sns\n",
        "%matplotlib inline"
      ],
      "execution_count": null,
      "outputs": []
    },
    {
      "cell_type": "code",
      "metadata": {
        "id": "f0p1WbMyl0i0",
        "colab_type": "code",
        "colab": {
          "base_uri": "https://localhost:8080/",
          "height": 236
        },
        "outputId": "8ae2f0b4-cde9-4676-f01b-49819acf753e"
      },
      "source": [
        "fig, axes = plt.subplots(nrows=1, ncols=3, figsize=(28, 4))\n",
        "\n",
        "sns.distplot(df_data_1['HOURS_DATASCIENCE'].dropna(), ax=axes[0])\n",
        "sns.distplot(df_data_1['HOURS_BACKEND'].dropna(), ax=axes[1])\n",
        "sns.distplot(df_data_1['HOURS_FRONTEND'].dropna(), ax=axes[2])"
      ],
      "execution_count": null,
      "outputs": [
        {
          "output_type": "execute_result",
          "data": {
            "text/plain": [
              "<matplotlib.axes._subplots.AxesSubplot at 0x7febb90456d8>"
            ]
          },
          "metadata": {
            "tags": []
          },
          "execution_count": 760
        },
        {
          "output_type": "display_data",
          "data": {
            "image/png": "[encoded data removed]",
            "text/plain": [
              "<Figure size 2016x288 with 3 Axes>"
            ]
          },
          "metadata": {
            "tags": [],
            "needs_background": "light"
          }
        }
      ]
    },
    {
      "cell_type": "code",
      "metadata": {
        "id": "DxFNXheNl0i9",
        "colab_type": "code",
        "colab": {
          "base_uri": "https://localhost:8080/",
          "height": 240
        },
        "outputId": "88a142d7-a0fa-4996-9bf2-cdeea77fb7b1"
      },
      "source": [
        "fig, axes = plt.subplots(nrows=2, ncols=3, figsize=(28, 4))\n",
        "\n",
        "sns.distplot(df_data_1['NUM_COURSES_BEGINNER_DATASCIENCE'].dropna(), ax=axes[0][0])\n",
        "sns.distplot(df_data_1['NUM_COURSES_BEGINNER_BACKEND'].dropna(), ax=axes[0][1])\n",
        "sns.distplot(df_data_1['NUM_COURSES_BEGINNER_FRONTEND'].dropna(), ax=axes[0][2])\n",
        "sns.distplot(df_data_1['NUM_COURSES_ADVANCED_DATASCIENCE'].dropna(), ax=axes[1][0])\n",
        "sns.distplot(df_data_1['NUM_COURSES_ADVANCED_BACKEND'].dropna(), ax=axes[1][1])\n",
        "sns.distplot(df_data_1['NUM_COURSES_ADVANCED_FRONTEND'].dropna(), ax=axes[1][2])"
      ],
      "execution_count": null,
      "outputs": [
        {
          "output_type": "execute_result",
          "data": {
            "text/plain": [
              "<matplotlib.axes._subplots.AxesSubplot at 0x7febbd099908>"
            ]
          },
          "metadata": {
            "tags": []
          },
          "execution_count": 761
        },
        {
          "output_type": "display_data",
          "data": {
            "image/png": "[encoded data removed]",
            "text/plain": [
              "<Figure size 2016x288 with 6 Axes>"
            ]
          },
          "metadata": {
            "tags": [],
            "needs_background": "light"
          }
        }
      ]
    },
    {
      "cell_type": "code",
      "metadata": {
        "id": "uKtx14UWl0jD",
        "colab_type": "code",
        "colab": {
          "base_uri": "https://localhost:8080/",
          "height": 237
        },
        "outputId": "3eaa2b68-17ea-426f-e6d0-4755743be377"
      },
      "source": [
        "fig, axes = plt.subplots(nrows=1, ncols=3, figsize=(28, 4))\n",
        "\n",
        "sns.distplot(df_data_1['AVG_SCORE_DATASCIENCE'].dropna(), ax=axes[0])\n",
        "sns.distplot(df_data_1['AVG_SCORE_BACKEND'].dropna(), ax=axes[1])\n",
        "sns.distplot(df_data_1['AVG_SCORE_FRONTEND'].dropna(), ax=axes[2])"
      ],
      "execution_count": null,
      "outputs": [
        {
          "output_type": "execute_result",
          "data": {
            "text/plain": [
              "<matplotlib.axes._subplots.AxesSubplot at 0x7febb7d75ba8>"
            ]
          },
          "metadata": {
            "tags": []
          },
          "execution_count": 762
        },
        {
          "output_type": "display_data",
          "data": {
            "image/png": "[encoded data removed]",
            "text/plain": [
              "<Figure size 2016x288 with 3 Axes>"
            ]
          },
          "metadata": {
            "tags": [],
            "needs_background": "light"
          }
        }
      ]
    },
    {
      "cell_type": "code",
      "metadata": {
        "id": "DaKgDHsjl0jK",
        "colab_type": "code",
        "colab": {
          "base_uri": "https://localhost:8080/",
          "height": 238
        },
        "outputId": "a47da336-1495-4287-f5d7-1dbc87bf8528"
      },
      "source": [
        "fig, axes = plt.subplots(nrows=1, ncols=2, figsize=(28, 4))\n",
        "\n",
        "sns.countplot(ax=axes[0], x='PROFILE', data=df_data_1)"
      ],
      "execution_count": null,
      "outputs": [
        {
          "output_type": "execute_result",
          "data": {
            "text/plain": [
              "<matplotlib.axes._subplots.AxesSubplot at 0x7febb7be8630>"
            ]
          },
          "metadata": {
            "tags": []
          },
          "execution_count": 763
        },
        {
          "output_type": "display_data",
          "data": {
            "image/png": "[encoded data removed]",
            "text/plain": [
              "<Figure size 2016x288 with 2 Axes>"
            ]
          },
          "metadata": {
            "tags": [],
            "needs_background": "light"
          }
        }
      ]
    },
    {
      "cell_type": "markdown",
      "metadata": {
        "id": "Gi6HFss9l0jR",
        "colab_type": "text"
      },
      "source": [
        "### Preprocesamiento de datos"
      ]
    },
    {
      "cell_type": "markdown",
      "metadata": {
        "id": "T1FA8gjil0jS",
        "colab_type": "text"
      },
      "source": [
        "Para el preprocesamiento de los datos, se presentarán en este notebook dos transformaciones básicas, demostrando la construcción de un Pipeline con un modelo funcional. Este Pipeline funcional provisto debe ser mejorado por el participante para que el modelo final alcance la mayor precisión posible, garantizando una mayor puntuación en el desafío. Esta mejora solo se puede realizar en el preprocesamiento de los datos, en la elección de un algoritmo para el entrenamiento de diferentes modelos, o incluso en la alteración del **framework** utilizado (sin embargo, solo se entregará un ejemplo de integración de Watson Machine Learning con *scikit-learn*).\n",
        "\n",
        "La primera transformación (paso en nuestro Pipeline) será la exclusión de la columna \"NOMBRE\" de nuestro conjunto de datos, que además de no ser una variable numérica, tampoco es una variable relacionada con el desempeño de los estudiantes en las disciplinas. Hay funciones listas para usar en *scikit-learn* para realizar esta transformación, sin embargo, nuestro ejemplo demostrará cómo crear una transformación personalizada desde cero en scikit-learn. Si lo desea, el participante puede usar este ejemplo para crear otras transformaciones y agregarlas al Pipeline final :)"
      ]
    },
    {
      "cell_type": "markdown",
      "metadata": {
        "id": "Hun3xQN_l0jT",
        "colab_type": "text"
      },
      "source": [
        "#### Transformación 1: excluir columnas del conjunto de datos\n",
        "\n",
        "Para la creación de una transformación de datos personalizada en scikit-learn, es necesario crear una clase con los métodos ``transform`` y ``fit``. En el método de 'transform', se ejecutará la lógica de nuestra transformación.\n",
        "\n",
        "La siguiente celda muestra el código completo de una transformación ``DropColumns`` para eliminar columnas de un pandas DataFrame."
      ]
    },
    {
      "cell_type": "code",
      "metadata": {
        "id": "_-4-6WBsl0jW",
        "colab_type": "code",
        "colab": {}
      },
      "source": [
        "from sklearn.base import BaseEstimator, TransformerMixin\n",
        "\n",
        "\n",
        "# All sklearn Transforms must have the `transform` and `fit` methods\n",
        "class DropColumns(BaseEstimator, TransformerMixin):\n",
        "    def __init__(self, columns):\n",
        "        self.columns = columns\n",
        "\n",
        "    def fit(self, X, y=None):\n",
        "        return self\n",
        "    \n",
        "    def transform(self, X):\n",
        "        # Primero copiamos el dataframe de datos de entrada 'X'\n",
        "        data = X.copy()\n",
        "        # Devolvemos un nuevo dataframe de datos sin las columnas no deseadas\n",
        "        return data.drop(labels=self.columns, axis='columns')"
      ],
      "execution_count": null,
      "outputs": []
    },
    {
      "cell_type": "markdown",
      "metadata": {
        "id": "e2OYaFgCl0jd",
        "colab_type": "text"
      },
      "source": [
        "Para aplicar esa transformación en un pandas DataFrame pandas, basta instanciar un objeto *DropColumns* y llamar el método transform()."
      ]
    },
    {
      "cell_type": "code",
      "metadata": {
        "id": "m7uw8cdal0je",
        "colab_type": "code",
        "colab": {
          "base_uri": "https://localhost:8080/",
          "height": 34
        },
        "outputId": "c91ef44a-8cd2-4c04-fff6-a0b4aa7ce7dd"
      },
      "source": [
        "# Creación de instancias de una transformación DropColumns\n",
        "rm_columns = DropColumns(\n",
        "    columns=[\"NAME\", \"Unnamed: 0\",'USER_ID']  # Esta transformación toma como parámetro una lista con los nombres de las columnas no deseadas\n",
        ")\n",
        "\n",
        "print(rm_columns)"
      ],
      "execution_count": null,
      "outputs": [
        {
          "output_type": "stream",
          "text": [
            "DropColumns(columns=['NAME', 'Unnamed: 0', 'USER_ID'])\n"
          ],
          "name": "stdout"
        }
      ]
    },
    {
      "cell_type": "code",
      "metadata": {
        "id": "-SQlLkAJl0jk",
        "colab_type": "code",
        "colab": {
          "base_uri": "https://localhost:8080/",
          "height": 170
        },
        "outputId": "72cceb03-64ce-44f8-f667-0c9de87548ba"
      },
      "source": [
        "# Ver las columnas del conjunto de datos original\n",
        "print(\"Columnas del conjunto de datos original: \\n\")\n",
        "print(df_data_1.columns)"
      ],
      "execution_count": null,
      "outputs": [
        {
          "output_type": "stream",
          "text": [
            "Columnas del conjunto de datos original: \n",
            "\n",
            "Index(['Unnamed: 0', 'NAME', 'USER_ID', 'HOURS_DATASCIENCE', 'HOURS_BACKEND',\n",
            "       'HOURS_FRONTEND', 'NUM_COURSES_BEGINNER_DATASCIENCE',\n",
            "       'NUM_COURSES_BEGINNER_BACKEND', 'NUM_COURSES_BEGINNER_FRONTEND',\n",
            "       'NUM_COURSES_ADVANCED_DATASCIENCE', 'NUM_COURSES_ADVANCED_BACKEND',\n",
            "       'NUM_COURSES_ADVANCED_FRONTEND', 'AVG_SCORE_DATASCIENCE',\n",
            "       'AVG_SCORE_BACKEND', 'AVG_SCORE_FRONTEND', 'PROFILE'],\n",
            "      dtype='object')\n"
          ],
          "name": "stdout"
        }
      ]
    },
    {
      "cell_type": "code",
      "metadata": {
        "id": "exAAQdqHl0jt",
        "colab_type": "code",
        "colab": {}
      },
      "source": [
        "# Aplicar la transformación ``DropColumns`` al conjunto de datos base\n",
        "rm_columns.fit(X=df_data_1)\n",
        "\n",
        "# Reconstruyendo un DataFrame de Pandas con el resultado de la transformación\n",
        "df_data_2 = pd.DataFrame.from_records(\n",
        "    data=rm_columns.transform(\n",
        "        X=df_data_1\n",
        "    ),\n",
        ")"
      ],
      "execution_count": null,
      "outputs": []
    },
    {
      "cell_type": "code",
      "metadata": {
        "id": "tKWj_VEDl0jz",
        "colab_type": "code",
        "colab": {
          "base_uri": "https://localhost:8080/",
          "height": 170
        },
        "outputId": "15eff9c3-29dd-43f8-9ac8-4c8eadaa7488"
      },
      "source": [
        "# Ver las columnas del conjunto de datos transformado\n",
        "print(\"Columnas del conjunto de datos después de la transformación ``DropColumns``: \\n\")\n",
        "print(df_data_2.columns)"
      ],
      "execution_count": null,
      "outputs": [
        {
          "output_type": "stream",
          "text": [
            "Columnas del conjunto de datos después de la transformación ``DropColumns``: \n",
            "\n",
            "Index(['HOURS_DATASCIENCE', 'HOURS_BACKEND', 'HOURS_FRONTEND',\n",
            "       'NUM_COURSES_BEGINNER_DATASCIENCE', 'NUM_COURSES_BEGINNER_BACKEND',\n",
            "       'NUM_COURSES_BEGINNER_FRONTEND', 'NUM_COURSES_ADVANCED_DATASCIENCE',\n",
            "       'NUM_COURSES_ADVANCED_BACKEND', 'NUM_COURSES_ADVANCED_FRONTEND',\n",
            "       'AVG_SCORE_DATASCIENCE', 'AVG_SCORE_BACKEND', 'AVG_SCORE_FRONTEND',\n",
            "       'PROFILE'],\n",
            "      dtype='object')\n"
          ],
          "name": "stdout"
        }
      ]
    },
    {
      "cell_type": "markdown",
      "metadata": {
        "id": "TNxKqgTpl0j6",
        "colab_type": "text"
      },
      "source": [
        "Tenga en cuenta que la columna \"NOMBRE\" se ha eliminado y nuestro conjunto de datos ahora solo tiene 14 columnas."
      ]
    },
    {
      "cell_type": "markdown",
      "metadata": {
        "id": "GWTPfB43l0j7",
        "colab_type": "text"
      },
      "source": [
        "#### Transformación 2: tratamiento de datos faltantes\n",
        "\n",
        "Para manejar los datos que faltan en nuestro conjunto de datos, ahora usaremos una transformación lista para usar de la biblioteca scikit-learn, llamada **SimpleImputer**.\n",
        "\n",
        "Esta transformación permite varias estrategias para el tratamiento de datos faltantes. La documentación oficial se puede encontrar en: https://scikit-learn.org/stable/modules/generated/sklearn.impute.SimpleImputer.html\n",
        "\n",
        "Primero se tomará la mediana de las tres primeras columnas del dataFrame. Es decir, las columnas de HOURS_\n",
        "\n",
        "Después haremos cero todos los valores faltantes."
      ]
    },
    {
      "cell_type": "code",
      "metadata": {
        "id": "4YaI_TffLdYV",
        "colab_type": "code",
        "colab": {
          "base_uri": "https://localhost:8080/",
          "height": 306
        },
        "outputId": "01acc080-bb9a-4b9e-ef79-68ce3e27c6b4"
      },
      "source": [
        "# Ver los datos faltantes del conjunto de datos antes de la primera transformación (df_data_2)\n",
        "print(\"Valores nulos antes de la transformación SimpleImputer: \\n\\n{}\\n\".format(df_data_2.isnull().sum(axis = 0)))"
      ],
      "execution_count": null,
      "outputs": [
        {
          "output_type": "stream",
          "text": [
            "Valores nulos antes de la transformación SimpleImputer: \n",
            "\n",
            "HOURS_DATASCIENCE                    14\n",
            "HOURS_BACKEND                        53\n",
            "HOURS_FRONTEND                       16\n",
            "NUM_COURSES_BEGINNER_DATASCIENCE     26\n",
            "NUM_COURSES_BEGINNER_BACKEND         18\n",
            "NUM_COURSES_BEGINNER_FRONTEND        39\n",
            "NUM_COURSES_ADVANCED_DATASCIENCE      2\n",
            "NUM_COURSES_ADVANCED_BACKEND          8\n",
            "NUM_COURSES_ADVANCED_FRONTEND        37\n",
            "AVG_SCORE_DATASCIENCE               220\n",
            "AVG_SCORE_BACKEND                    84\n",
            "AVG_SCORE_FRONTEND                  168\n",
            "PROFILE                               0\n",
            "dtype: int64\n",
            "\n"
          ],
          "name": "stdout"
        }
      ]
    },
    {
      "cell_type": "code",
      "metadata": {
        "id": "xHiuvV2HJoCy",
        "colab_type": "code",
        "colab": {
          "base_uri": "https://localhost:8080/",
          "height": 272
        },
        "outputId": "df885551-5139-44e5-ae3b-62a0fba822ee"
      },
      "source": [
        "imputer = SimpleImputer(missing_values = np.nan,  \n",
        "                        strategy ='median') \n",
        "\n",
        "# Fitting the data to the imputer object \n",
        "imputer = imputer.fit(df_data_2.iloc[:,:3]) \n",
        "  \n",
        "# Imputing the data      \n",
        "df_data_2.iloc[:,:3] = imputer.transform(df_data_2.iloc[:,:3]) \n",
        "  \n",
        "print(\"Imputed Data : \\n\", df_data_2.iloc[:,:3]) "
      ],
      "execution_count": null,
      "outputs": [
        {
          "output_type": "stream",
          "text": [
            "Imputed Data : \n",
            "        HOURS_DATASCIENCE  HOURS_BACKEND  HOURS_FRONTEND\n",
            "0                    7.0           39.0            29.0\n",
            "1                   32.0            0.0            44.0\n",
            "2                   45.0            0.0            59.0\n",
            "3                   36.0           19.0            28.0\n",
            "4                   61.0           78.0            38.0\n",
            "...                  ...            ...             ...\n",
            "19995                0.0           44.0            42.0\n",
            "19996                0.0           85.0            63.0\n",
            "19997               32.0           50.0            22.0\n",
            "19998                0.0           96.0            69.0\n",
            "19999               51.0           24.0            36.0\n",
            "\n",
            "[20000 rows x 3 columns]\n"
          ],
          "name": "stdout"
        }
      ]
    },
    {
      "cell_type": "code",
      "metadata": {
        "id": "D_ZeZb4Pl0j8",
        "colab_type": "code",
        "colab": {}
      },
      "source": [
        "# Crear un objeto ``SimpleImputer``\n",
        "si = SimpleImputer(\n",
        "    missing_values=np.nan,  # los valores que faltan son del tipo ``np.nan`` (Pandas estándar)\n",
        "    strategy='most_frequent',  # la estrategia elegida es cambiar el valor faltante por una constante\n",
        "    fill_value=0,  # la constante que se usará para completar los valores faltantes es un int64 = 0\n",
        "    verbose=0,\n",
        "    copy=True\n",
        ")"
      ],
      "execution_count": null,
      "outputs": []
    },
    {
      "cell_type": "code",
      "metadata": {
        "id": "g13iBk1gl0kE",
        "colab_type": "code",
        "colab": {
          "base_uri": "https://localhost:8080/",
          "height": 306
        },
        "outputId": "1c86b564-5723-4eaf-fbb1-033b8b016c20"
      },
      "source": [
        "# Ver los datos faltantes del conjunto de datos antes de la primera transformación (df_data_2)\n",
        "print(\"Valores nulos antes de la transformación SimpleImputer: \\n\\n{}\\n\".format(df_data_2.isnull().sum(axis = 0)))"
      ],
      "execution_count": null,
      "outputs": [
        {
          "output_type": "stream",
          "text": [
            "Valores nulos antes de la transformación SimpleImputer: \n",
            "\n",
            "HOURS_DATASCIENCE                     0\n",
            "HOURS_BACKEND                         0\n",
            "HOURS_FRONTEND                        0\n",
            "NUM_COURSES_BEGINNER_DATASCIENCE     26\n",
            "NUM_COURSES_BEGINNER_BACKEND         18\n",
            "NUM_COURSES_BEGINNER_FRONTEND        39\n",
            "NUM_COURSES_ADVANCED_DATASCIENCE      2\n",
            "NUM_COURSES_ADVANCED_BACKEND          8\n",
            "NUM_COURSES_ADVANCED_FRONTEND        37\n",
            "AVG_SCORE_DATASCIENCE               220\n",
            "AVG_SCORE_BACKEND                    84\n",
            "AVG_SCORE_FRONTEND                  168\n",
            "PROFILE                               0\n",
            "dtype: int64\n",
            "\n"
          ],
          "name": "stdout"
        }
      ]
    },
    {
      "cell_type": "code",
      "metadata": {
        "id": "XIXBRbGzl0kM",
        "colab_type": "code",
        "colab": {}
      },
      "source": [
        "# Aplicamos el SimpleImputer ``si`` al conjunto de datos df_data_2 (resultado de la primera transformación)\n",
        "si.fit(X=df_data_2)\n",
        "\n",
        "# Reconstrucción de un nuevo DataFrame de Pandas con el conjunto imputado (df_data_3)\n",
        "df_data_3 = pd.DataFrame.from_records(\n",
        "    data=si.transform(\n",
        "        X=df_data_2\n",
        "    ),  # el resultado SimpleImputer.transform (<< pandas dataframe >>) es lista lista\n",
        "    columns=df_data_2.columns  # las columnas originales deben conservarse en esta transformación\n",
        ")"
      ],
      "execution_count": null,
      "outputs": []
    },
    {
      "cell_type": "code",
      "metadata": {
        "id": "qy6a8S4Ql0kR",
        "colab_type": "code",
        "colab": {
          "base_uri": "https://localhost:8080/",
          "height": 306
        },
        "outputId": "3f6843ec-87dc-4f57-b924-ad830c96636e"
      },
      "source": [
        "# Ver los datos faltantes del conjunto de datos después de la segunda transformación (SimpleImputer) (df_data_3)\n",
        "print(\"Valores nulos en el conjunto de datos después de la transformación SimpleImputer: \\n\\n{}\\n\".format(df_data_3.isnull().sum(axis = 0)))"
      ],
      "execution_count": null,
      "outputs": [
        {
          "output_type": "stream",
          "text": [
            "Valores nulos en el conjunto de datos después de la transformación SimpleImputer: \n",
            "\n",
            "HOURS_DATASCIENCE                   0\n",
            "HOURS_BACKEND                       0\n",
            "HOURS_FRONTEND                      0\n",
            "NUM_COURSES_BEGINNER_DATASCIENCE    0\n",
            "NUM_COURSES_BEGINNER_BACKEND        0\n",
            "NUM_COURSES_BEGINNER_FRONTEND       0\n",
            "NUM_COURSES_ADVANCED_DATASCIENCE    0\n",
            "NUM_COURSES_ADVANCED_BACKEND        0\n",
            "NUM_COURSES_ADVANCED_FRONTEND       0\n",
            "AVG_SCORE_DATASCIENCE               0\n",
            "AVG_SCORE_BACKEND                   0\n",
            "AVG_SCORE_FRONTEND                  0\n",
            "PROFILE                             0\n",
            "dtype: int64\n",
            "\n"
          ],
          "name": "stdout"
        }
      ]
    },
    {
      "cell_type": "markdown",
      "metadata": {
        "id": "Znj_39xrl0kW",
        "colab_type": "text"
      },
      "source": [
        "Tenga en cuenta que ya no tenemos valores perdidos en nuestro conjunto de datos :)\n",
        "\n",
        "Vale la pena señalar que cambiar los valores perdidos por 0 no siempre es la mejor estrategia. Se anima al participante a estudiar e implementar diferentes estrategias para tratar los valores perdidos para mejorar su modelo y mejorar su puntuación final."
      ]
    },
    {
      "cell_type": "markdown",
      "metadata": {
        "id": "UtZ919Frl0kX",
        "colab_type": "text"
      },
      "source": [
        "### Entrenando un modelo de clasificación"
      ]
    },
    {
      "cell_type": "markdown",
      "metadata": {
        "id": "01bt4RF-l0kZ",
        "colab_type": "text"
      },
      "source": [
        "Una vez finalizado el preprocesamiento, ya tenemos el conjunto de datos en el formato necesario para entrenar nuestro modelo:"
      ]
    },
    {
      "cell_type": "code",
      "metadata": {
        "id": "9mt2RJ0tl0ka",
        "colab_type": "code",
        "colab": {
          "base_uri": "https://localhost:8080/",
          "height": 224
        },
        "outputId": "e31c13a9-8529-4042-cfca-e88e26239e81"
      },
      "source": [
        "df_data_3.head()"
      ],
      "execution_count": null,
      "outputs": [
        {
          "output_type": "execute_result",
          "data": {
            "text/html": [
              "<div>\n",
              "<style scoped>\n",
              "    .dataframe tbody tr th:only-of-type {\n",
              "        vertical-align: middle;\n",
              "    }\n",
              "\n",
              "    .dataframe tbody tr th {\n",
              "        vertical-align: top;\n",
              "    }\n",
              "\n",
              "    .dataframe thead th {\n",
              "        text-align: right;\n",
              "    }\n",
              "</style>\n",
              "<table border=\"1\" class=\"dataframe\">\n",
              "  <thead>\n",
              "    <tr style=\"text-align: right;\">\n",
              "      <th></th>\n",
              "      <th>HOURS_DATASCIENCE</th>\n",
              "      <th>HOURS_BACKEND</th>\n",
              "      <th>HOURS_FRONTEND</th>\n",
              "      <th>NUM_COURSES_BEGINNER_DATASCIENCE</th>\n",
              "      <th>NUM_COURSES_BEGINNER_BACKEND</th>\n",
              "      <th>NUM_COURSES_BEGINNER_FRONTEND</th>\n",
              "      <th>NUM_COURSES_ADVANCED_DATASCIENCE</th>\n",
              "      <th>NUM_COURSES_ADVANCED_BACKEND</th>\n",
              "      <th>NUM_COURSES_ADVANCED_FRONTEND</th>\n",
              "      <th>AVG_SCORE_DATASCIENCE</th>\n",
              "      <th>AVG_SCORE_BACKEND</th>\n",
              "      <th>AVG_SCORE_FRONTEND</th>\n",
              "      <th>PROFILE</th>\n",
              "    </tr>\n",
              "  </thead>\n",
              "  <tbody>\n",
              "    <tr>\n",
              "      <th>0</th>\n",
              "      <td>7.0</td>\n",
              "      <td>39.0</td>\n",
              "      <td>29.0</td>\n",
              "      <td>2.0</td>\n",
              "      <td>4.0</td>\n",
              "      <td>0.0</td>\n",
              "      <td>2.0</td>\n",
              "      <td>5.0</td>\n",
              "      <td>0.0</td>\n",
              "      <td>84.0</td>\n",
              "      <td>74.0</td>\n",
              "      <td>69.0</td>\n",
              "      <td>beginner_front_end</td>\n",
              "    </tr>\n",
              "    <tr>\n",
              "      <th>1</th>\n",
              "      <td>32.0</td>\n",
              "      <td>0.0</td>\n",
              "      <td>44.0</td>\n",
              "      <td>2.0</td>\n",
              "      <td>0.0</td>\n",
              "      <td>0.0</td>\n",
              "      <td>0.0</td>\n",
              "      <td>5.0</td>\n",
              "      <td>0.0</td>\n",
              "      <td>67.0</td>\n",
              "      <td>45.0</td>\n",
              "      <td>69.0</td>\n",
              "      <td>beginner_front_end</td>\n",
              "    </tr>\n",
              "    <tr>\n",
              "      <th>2</th>\n",
              "      <td>45.0</td>\n",
              "      <td>0.0</td>\n",
              "      <td>59.0</td>\n",
              "      <td>0.0</td>\n",
              "      <td>5.0</td>\n",
              "      <td>4.0</td>\n",
              "      <td>0.0</td>\n",
              "      <td>4.0</td>\n",
              "      <td>1.0</td>\n",
              "      <td>63.0</td>\n",
              "      <td>54.0</td>\n",
              "      <td>47.0</td>\n",
              "      <td>advanced_front_end</td>\n",
              "    </tr>\n",
              "    <tr>\n",
              "      <th>3</th>\n",
              "      <td>36.0</td>\n",
              "      <td>19.0</td>\n",
              "      <td>28.0</td>\n",
              "      <td>0.0</td>\n",
              "      <td>5.0</td>\n",
              "      <td>7.0</td>\n",
              "      <td>0.0</td>\n",
              "      <td>5.0</td>\n",
              "      <td>3.0</td>\n",
              "      <td>63.0</td>\n",
              "      <td>71.0</td>\n",
              "      <td>89.0</td>\n",
              "      <td>beginner_data_science</td>\n",
              "    </tr>\n",
              "    <tr>\n",
              "      <th>4</th>\n",
              "      <td>61.0</td>\n",
              "      <td>78.0</td>\n",
              "      <td>38.0</td>\n",
              "      <td>6.0</td>\n",
              "      <td>11.0</td>\n",
              "      <td>0.0</td>\n",
              "      <td>4.0</td>\n",
              "      <td>3.0</td>\n",
              "      <td>0.0</td>\n",
              "      <td>66.0</td>\n",
              "      <td>85.0</td>\n",
              "      <td>69.0</td>\n",
              "      <td>advanced_front_end</td>\n",
              "    </tr>\n",
              "  </tbody>\n",
              "</table>\n",
              "</div>"
            ],
            "text/plain": [
              "   HOURS_DATASCIENCE  HOURS_BACKEND  ...  AVG_SCORE_FRONTEND                PROFILE\n",
              "0                7.0           39.0  ...                69.0     beginner_front_end\n",
              "1               32.0            0.0  ...                69.0     beginner_front_end\n",
              "2               45.0            0.0  ...                47.0     advanced_front_end\n",
              "3               36.0           19.0  ...                89.0  beginner_data_science\n",
              "4               61.0           78.0  ...                69.0     advanced_front_end\n",
              "\n",
              "[5 rows x 13 columns]"
            ]
          },
          "metadata": {
            "tags": []
          },
          "execution_count": 775
        }
      ]
    },
    {
      "cell_type": "markdown",
      "metadata": {
        "id": "RPAr8r06l0kg",
        "colab_type": "text"
      },
      "source": [
        "En el ejemplo proporcionado, usaremos todas las columnas, excepto la columna **Profile** como *feautres* (variables de entrada).\n",
        "\n",
        "La variable **Profile** será la variable objetivo del modelo, como se describe en la declaración de desafío."
      ]
    },
    {
      "cell_type": "markdown",
      "metadata": {
        "id": "ouibaERHl0kk",
        "colab_type": "text"
      },
      "source": [
        "#### Definición de features del modelo"
      ]
    },
    {
      "cell_type": "code",
      "metadata": {
        "id": "52upyIHEl0kl",
        "colab_type": "code",
        "colab": {}
      },
      "source": [
        "# Definición de las columnas que seran features (Notese que la columna NOMBRE no esta presente)\n",
        "features = [\n",
        "    \"HOURS_DATASCIENCE\", \"HOURS_BACKEND\", \"HOURS_FRONTEND\",\n",
        "    \"NUM_COURSES_BEGINNER_DATASCIENCE\", \"NUM_COURSES_BEGINNER_BACKEND\", \"NUM_COURSES_BEGINNER_FRONTEND\",\n",
        "    \"NUM_COURSES_ADVANCED_DATASCIENCE\", \"NUM_COURSES_ADVANCED_BACKEND\", \"NUM_COURSES_ADVANCED_FRONTEND\",\n",
        "    \"AVG_SCORE_DATASCIENCE\", \"AVG_SCORE_BACKEND\", \"AVG_SCORE_FRONTEND\"\n",
        "]\n",
        "\n",
        "# Definición de variable objetivo\n",
        "target = ['PROFILE']\n",
        "\n",
        "# Preparación de los argumentos para los métodos de la biblioteca ``scikit-learn``\n",
        "X = df_data_3[features]\n",
        "y = df_data_3[target]"
      ],
      "execution_count": null,
      "outputs": []
    },
    {
      "cell_type": "markdown",
      "metadata": {
        "id": "NhG6vtmml0ku",
        "colab_type": "text"
      },
      "source": [
        "El conjunto de entrada (X):"
      ]
    },
    {
      "cell_type": "code",
      "metadata": {
        "id": "LXDFcrasl0kv",
        "colab_type": "code",
        "colab": {
          "base_uri": "https://localhost:8080/",
          "height": 224
        },
        "outputId": "41c1a8e2-f8b3-4d53-e713-6d866e5fc2ed"
      },
      "source": [
        "X.head()"
      ],
      "execution_count": null,
      "outputs": [
        {
          "output_type": "execute_result",
          "data": {
            "text/html": [
              "<div>\n",
              "<style scoped>\n",
              "    .dataframe tbody tr th:only-of-type {\n",
              "        vertical-align: middle;\n",
              "    }\n",
              "\n",
              "    .dataframe tbody tr th {\n",
              "        vertical-align: top;\n",
              "    }\n",
              "\n",
              "    .dataframe thead th {\n",
              "        text-align: right;\n",
              "    }\n",
              "</style>\n",
              "<table border=\"1\" class=\"dataframe\">\n",
              "  <thead>\n",
              "    <tr style=\"text-align: right;\">\n",
              "      <th></th>\n",
              "      <th>HOURS_DATASCIENCE</th>\n",
              "      <th>HOURS_BACKEND</th>\n",
              "      <th>HOURS_FRONTEND</th>\n",
              "      <th>NUM_COURSES_BEGINNER_DATASCIENCE</th>\n",
              "      <th>NUM_COURSES_BEGINNER_BACKEND</th>\n",
              "      <th>NUM_COURSES_BEGINNER_FRONTEND</th>\n",
              "      <th>NUM_COURSES_ADVANCED_DATASCIENCE</th>\n",
              "      <th>NUM_COURSES_ADVANCED_BACKEND</th>\n",
              "      <th>NUM_COURSES_ADVANCED_FRONTEND</th>\n",
              "      <th>AVG_SCORE_DATASCIENCE</th>\n",
              "      <th>AVG_SCORE_BACKEND</th>\n",
              "      <th>AVG_SCORE_FRONTEND</th>\n",
              "    </tr>\n",
              "  </thead>\n",
              "  <tbody>\n",
              "    <tr>\n",
              "      <th>0</th>\n",
              "      <td>7.0</td>\n",
              "      <td>39.0</td>\n",
              "      <td>29.0</td>\n",
              "      <td>2.0</td>\n",
              "      <td>4.0</td>\n",
              "      <td>0.0</td>\n",
              "      <td>2.0</td>\n",
              "      <td>5.0</td>\n",
              "      <td>0.0</td>\n",
              "      <td>84.0</td>\n",
              "      <td>74.0</td>\n",
              "      <td>69.0</td>\n",
              "    </tr>\n",
              "    <tr>\n",
              "      <th>1</th>\n",
              "      <td>32.0</td>\n",
              "      <td>0.0</td>\n",
              "      <td>44.0</td>\n",
              "      <td>2.0</td>\n",
              "      <td>0.0</td>\n",
              "      <td>0.0</td>\n",
              "      <td>0.0</td>\n",
              "      <td>5.0</td>\n",
              "      <td>0.0</td>\n",
              "      <td>67.0</td>\n",
              "      <td>45.0</td>\n",
              "      <td>69.0</td>\n",
              "    </tr>\n",
              "    <tr>\n",
              "      <th>2</th>\n",
              "      <td>45.0</td>\n",
              "      <td>0.0</td>\n",
              "      <td>59.0</td>\n",
              "      <td>0.0</td>\n",
              "      <td>5.0</td>\n",
              "      <td>4.0</td>\n",
              "      <td>0.0</td>\n",
              "      <td>4.0</td>\n",
              "      <td>1.0</td>\n",
              "      <td>63.0</td>\n",
              "      <td>54.0</td>\n",
              "      <td>47.0</td>\n",
              "    </tr>\n",
              "    <tr>\n",
              "      <th>3</th>\n",
              "      <td>36.0</td>\n",
              "      <td>19.0</td>\n",
              "      <td>28.0</td>\n",
              "      <td>0.0</td>\n",
              "      <td>5.0</td>\n",
              "      <td>7.0</td>\n",
              "      <td>0.0</td>\n",
              "      <td>5.0</td>\n",
              "      <td>3.0</td>\n",
              "      <td>63.0</td>\n",
              "      <td>71.0</td>\n",
              "      <td>89.0</td>\n",
              "    </tr>\n",
              "    <tr>\n",
              "      <th>4</th>\n",
              "      <td>61.0</td>\n",
              "      <td>78.0</td>\n",
              "      <td>38.0</td>\n",
              "      <td>6.0</td>\n",
              "      <td>11.0</td>\n",
              "      <td>0.0</td>\n",
              "      <td>4.0</td>\n",
              "      <td>3.0</td>\n",
              "      <td>0.0</td>\n",
              "      <td>66.0</td>\n",
              "      <td>85.0</td>\n",
              "      <td>69.0</td>\n",
              "    </tr>\n",
              "  </tbody>\n",
              "</table>\n",
              "</div>"
            ],
            "text/plain": [
              "   HOURS_DATASCIENCE  HOURS_BACKEND  ...  AVG_SCORE_BACKEND  AVG_SCORE_FRONTEND\n",
              "0                7.0           39.0  ...               74.0                69.0\n",
              "1               32.0            0.0  ...               45.0                69.0\n",
              "2               45.0            0.0  ...               54.0                47.0\n",
              "3               36.0           19.0  ...               71.0                89.0\n",
              "4               61.0           78.0  ...               85.0                69.0\n",
              "\n",
              "[5 rows x 12 columns]"
            ]
          },
          "metadata": {
            "tags": []
          },
          "execution_count": 777
        }
      ]
    },
    {
      "cell_type": "markdown",
      "metadata": {
        "id": "6wnKD0iel0k4",
        "colab_type": "text"
      },
      "source": [
        "La variable objetivo (y):"
      ]
    },
    {
      "cell_type": "code",
      "metadata": {
        "id": "jAtsWX1pl0k6",
        "colab_type": "code",
        "colab": {
          "base_uri": "https://localhost:8080/",
          "height": 204
        },
        "outputId": "c24b8602-9eda-45de-b8d1-5461b6aac74b"
      },
      "source": [
        "y.head()"
      ],
      "execution_count": null,
      "outputs": [
        {
          "output_type": "execute_result",
          "data": {
            "text/html": [
              "<div>\n",
              "<style scoped>\n",
              "    .dataframe tbody tr th:only-of-type {\n",
              "        vertical-align: middle;\n",
              "    }\n",
              "\n",
              "    .dataframe tbody tr th {\n",
              "        vertical-align: top;\n",
              "    }\n",
              "\n",
              "    .dataframe thead th {\n",
              "        text-align: right;\n",
              "    }\n",
              "</style>\n",
              "<table border=\"1\" class=\"dataframe\">\n",
              "  <thead>\n",
              "    <tr style=\"text-align: right;\">\n",
              "      <th></th>\n",
              "      <th>PROFILE</th>\n",
              "    </tr>\n",
              "  </thead>\n",
              "  <tbody>\n",
              "    <tr>\n",
              "      <th>0</th>\n",
              "      <td>beginner_front_end</td>\n",
              "    </tr>\n",
              "    <tr>\n",
              "      <th>1</th>\n",
              "      <td>beginner_front_end</td>\n",
              "    </tr>\n",
              "    <tr>\n",
              "      <th>2</th>\n",
              "      <td>advanced_front_end</td>\n",
              "    </tr>\n",
              "    <tr>\n",
              "      <th>3</th>\n",
              "      <td>beginner_data_science</td>\n",
              "    </tr>\n",
              "    <tr>\n",
              "      <th>4</th>\n",
              "      <td>advanced_front_end</td>\n",
              "    </tr>\n",
              "  </tbody>\n",
              "</table>\n",
              "</div>"
            ],
            "text/plain": [
              "                 PROFILE\n",
              "0     beginner_front_end\n",
              "1     beginner_front_end\n",
              "2     advanced_front_end\n",
              "3  beginner_data_science\n",
              "4     advanced_front_end"
            ]
          },
          "metadata": {
            "tags": []
          },
          "execution_count": 778
        }
      ]
    },
    {
      "cell_type": "markdown",
      "metadata": {
        "id": "yiehpyNwl0lA",
        "colab_type": "text"
      },
      "source": [
        "#### Separar el conjunto de datos en un conjunto de entrenamiento y un conjunto de prueba"
      ]
    },
    {
      "cell_type": "markdown",
      "metadata": {
        "id": "pENSDfprl0lB",
        "colab_type": "text"
      },
      "source": [
        "Separaremos el conjunto de datos provisto en dos grupos: uno para entrenar nuestro modelo y otro para probar el resultado a través de una prueba ciega. La separación del conjunto de datos se puede hacer fácilmente con el método *train_test_split ()* de scikit-learn:"
      ]
    },
    {
      "cell_type": "code",
      "metadata": {
        "id": "22q-ruRvl0lD",
        "colab_type": "code",
        "colab": {}
      },
      "source": [
        "from sklearn.preprocessing import StandardScaler\n",
        "X = StandardScaler().fit_transform(X)\n",
        "# Separación de datos en conjunto de entrenamiento y conjunto de pruebas\n",
        "X_train, X_test, y_train, y_test = train_test_split(X, y, test_size=0.3, stratify=y, random_state=11)  #337"
      ],
      "execution_count": null,
      "outputs": []
    },
    {
      "cell_type": "markdown",
      "metadata": {
        "id": "Lcfx6lIol0lM",
        "colab_type": "text"
      },
      "source": [
        "#### Creando un modelo basado en árboles de decisión"
      ]
    },
    {
      "cell_type": "markdown",
      "metadata": {
        "id": "NvMcpxNrl0lN",
        "colab_type": "text"
      },
      "source": [
        "En el ejemplo proporcionado, crearemos un clasificador basado en **árboles de decisión**.\n",
        "\n",
        "El primer paso es básicamente crear una instancia de un objeto *DecisionTreeClassifier ()* de la biblioteca scikit-learn."
      ]
    },
    {
      "cell_type": "code",
      "metadata": {
        "id": "WXLHvimil0lO",
        "colab_type": "code",
        "colab": {}
      },
      "source": [
        "# Creando el árbol de decisiones con la biblioteca ``scikit-learn``:\n",
        "dtc_model = DecisionTreeClassifier()  # El modelo se creará con los parámetros estándar de la biblioteca"
      ],
      "execution_count": null,
      "outputs": []
    },
    {
      "cell_type": "markdown",
      "metadata": {
        "id": "m9KEmd_ul0lU",
        "colab_type": "text"
      },
      "source": [
        "Material teórico sobre árboles de decisión en la documentación oficial de scikit-learn: https://scikit-learn.org/stable/modules/tree.html\n",
        "\n",
        "Una guía para principiantes del mundo del aprendizaje automático: https://developer.ibm.com/es/patterns/use-icp4d-to-build-the-machine-learning-model-for-return-propensity/"
      ]
    },
    {
      "cell_type": "markdown",
      "metadata": {
        "id": "S1bfFWkDl0lV",
        "colab_type": "text"
      },
      "source": [
        "#### Ejecucion del entrenamiento del árbol de descisión "
      ]
    },
    {
      "cell_type": "code",
      "metadata": {
        "id": "G_BUd9p4l0lW",
        "colab_type": "code",
        "colab": {
          "base_uri": "https://localhost:8080/",
          "height": 119
        },
        "outputId": "b8c66a4a-7852-4701-b6d0-56c679f9f7fe"
      },
      "source": [
        "# Entrenamiento de modelos (llamado método *fit ()* con conjuntos de entrenamiento)\n",
        "dtc_model.fit(\n",
        "    X_train,\n",
        "    y_train\n",
        ")"
      ],
      "execution_count": null,
      "outputs": [
        {
          "output_type": "execute_result",
          "data": {
            "text/plain": [
              "DecisionTreeClassifier(class_weight=None, criterion='gini', max_depth=None,\n",
              "            max_features=None, max_leaf_nodes=None,\n",
              "            min_impurity_decrease=0.0, min_impurity_split=None,\n",
              "            min_samples_leaf=1, min_samples_split=2,\n",
              "            min_weight_fraction_leaf=0.0, presort=False, random_state=None,\n",
              "            splitter='best')"
            ]
          },
          "metadata": {
            "tags": []
          },
          "execution_count": 781
        }
      ]
    },
    {
      "cell_type": "markdown",
      "metadata": {
        "id": "Jqtxu6lDl0lc",
        "colab_type": "text"
      },
      "source": [
        "#### Ejecución de predicciones y evaluación del modelo creado"
      ]
    },
    {
      "cell_type": "code",
      "metadata": {
        "id": "rV5Bvc_Ml0ld",
        "colab_type": "code",
        "colab": {}
      },
      "source": [
        "# Realización de una prueba a ciegas en el modelo creado\n",
        "y_pred = dtc_model.predict(X_test)"
      ],
      "execution_count": null,
      "outputs": []
    },
    {
      "cell_type": "code",
      "metadata": {
        "id": "ZrmKnnbFl0lj",
        "colab_type": "code",
        "colab": {}
      },
      "source": [
        "#X_test.head()"
      ],
      "execution_count": null,
      "outputs": []
    },
    {
      "cell_type": "code",
      "metadata": {
        "id": "pHMfeC6cl0lp",
        "colab_type": "code",
        "colab": {
          "base_uri": "https://localhost:8080/",
          "height": 51
        },
        "outputId": "4a30435a-225e-485c-c60e-202bd9282d2b"
      },
      "source": [
        "print(y_pred)"
      ],
      "execution_count": null,
      "outputs": [
        {
          "output_type": "stream",
          "text": [
            "['advanced_front_end' 'advanced_data_science' 'beginner_front_end' ...\n",
            " 'advanced_front_end' 'advanced_data_science' 'beginner_data_science']\n"
          ],
          "name": "stdout"
        }
      ]
    },
    {
      "cell_type": "code",
      "metadata": {
        "id": "cQ4R5w9Pl0lw",
        "colab_type": "code",
        "colab": {
          "base_uri": "https://localhost:8080/",
          "height": 34
        },
        "outputId": "f19045a3-501f-47cc-8a78-eebb69dbbb78"
      },
      "source": [
        "from sklearn.metrics import accuracy_score\n",
        "\n",
        "# Precisión lograda por el árbol de decisiones\n",
        "print(\"Exactitud: {}%\".format(100*round(accuracy_score(y_test, y_pred), 2)))"
      ],
      "execution_count": null,
      "outputs": [
        {
          "output_type": "stream",
          "text": [
            "Exactitud: 77.0%\n"
          ],
          "name": "stdout"
        }
      ]
    },
    {
      "cell_type": "markdown",
      "metadata": {
        "id": "eCH8WQ3_l0l2",
        "colab_type": "text"
      },
      "source": [
        "<hr>"
      ]
    },
    {
      "cell_type": "markdown",
      "metadata": {
        "id": "VUSKu5Ytl0l3",
        "colab_type": "text"
      },
      "source": [
        "Este notebook demostró cómo trabajar con transformaciones y modelos con la biblioteca scikit-learn. Se recomienda que el participante realice sus experimentos editando el código proporcionado aquí hasta lograr un modelo con alta precisión.\n",
        "\n",
        "Cuando esté satisfecho con su modelo, puede pasar al segundo paso del desafío: encapsular su modelo como una API REST lista para usar con Watson Machine Learning.\n",
        "\n",
        "El notebook para la segunda etapa ya está en este proyecto, simplemente acceda a la pestaña **ASSETS** e inícielo. No olvide apagar primero el Kernel en este portátil para reducir el consumo de su nivel gratuito de IBM Cloud Pak for Data."
      ]
    },
    {
      "cell_type": "code",
      "metadata": {
        "id": "qtlmPWDBl0l4",
        "colab_type": "code",
        "colab": {}
      },
      "source": [
        ""
      ],
      "execution_count": null,
      "outputs": []
    },
    {
      "cell_type": "markdown",
      "metadata": {
        "id": "nfv5PE7eB597",
        "colab_type": "text"
      },
      "source": [
        "#### Creando un modelo basado en red neuronal artificial\n"
      ]
    },
    {
      "cell_type": "code",
      "metadata": {
        "id": "2I76O2e4B4XF",
        "colab_type": "code",
        "colab": {
          "base_uri": "https://localhost:8080/",
          "height": 136
        },
        "outputId": "68cb4331-c56f-4413-b557-9141291e68ed"
      },
      "source": [
        "from sklearn.neural_network import MLPClassifier\n",
        "#lr = 0.01           # learning rate\n",
        "nn = [12, 36, 6, 6, 12, 1]  # número de neuronas por capa.\n",
        "\n",
        "# Creamos el objeto del modelo de red neuronal multicapa.\n",
        "clf_ann_model = MLPClassifier(hidden_layer_sizes=tuple(nn[1:-1]),\n",
        "                              verbose=True,\n",
        "                              random_state=1,\n",
        "                              max_iter=250,\n",
        "                              learning_rate_init=0.0011\n",
        "                              )\n",
        "clf_ann_model"
      ],
      "execution_count": null,
      "outputs": [
        {
          "output_type": "execute_result",
          "data": {
            "text/plain": [
              "MLPClassifier(activation='relu', alpha=0.0001, batch_size='auto', beta_1=0.9,\n",
              "       beta_2=0.999, early_stopping=False, epsilon=1e-08,\n",
              "       hidden_layer_sizes=(36, 6, 6, 12), learning_rate='constant',\n",
              "       learning_rate_init=0.0011, max_iter=250, momentum=0.9,\n",
              "       n_iter_no_change=10, nesterovs_momentum=True, power_t=0.5,\n",
              "       random_state=1, shuffle=True, solver='adam', tol=0.0001,\n",
              "       validation_fraction=0.1, verbose=True, warm_start=False)"
            ]
          },
          "metadata": {
            "tags": []
          },
          "execution_count": 786
        }
      ]
    },
    {
      "cell_type": "markdown",
      "metadata": {
        "id": "CLwFruDzDSfm",
        "colab_type": "text"
      },
      "source": [
        "#### Ejecución del entrenamiento por red nueronal artificial"
      ]
    },
    {
      "cell_type": "code",
      "metadata": {
        "id": "89zTGIVWNldJ",
        "colab_type": "code",
        "colab": {
          "base_uri": "https://localhost:8080/",
          "height": 1000
        },
        "outputId": "ca149dc6-cfea-4379-ad67-16ac4e07cd7f"
      },
      "source": [
        "clf_ann_model.fit(X_train,y_train)"
      ],
      "execution_count": null,
      "outputs": [
        {
          "output_type": "stream",
          "text": [
            "Iteration 1, loss = 1.72648987\n"
          ],
          "name": "stdout"
        },
        {
          "output_type": "stream",
          "text": [
            "/usr/local/lib/python3.6/dist-packages/sklearn/neural_network/multilayer_perceptron.py:916: DataConversionWarning: A column-vector y was passed when a 1d array was expected. Please change the shape of y to (n_samples, ), for example using ravel().\n",
            "  y = column_or_1d(y, warn=True)\n"
          ],
          "name": "stderr"
        },
        {
          "output_type": "stream",
          "text": [
            "Iteration 2, loss = 1.39560080\n",
            "Iteration 3, loss = 1.08781523\n",
            "Iteration 4, loss = 0.91279128\n",
            "Iteration 5, loss = 0.79097556\n",
            "Iteration 6, loss = 0.69687236\n",
            "Iteration 7, loss = 0.61795110\n",
            "Iteration 8, loss = 0.55364413\n",
            "Iteration 9, loss = 0.50031073\n",
            "Iteration 10, loss = 0.45824152\n",
            "Iteration 11, loss = 0.42637634\n",
            "Iteration 12, loss = 0.40082392\n",
            "Iteration 13, loss = 0.37880302\n",
            "Iteration 14, loss = 0.36250829\n",
            "Iteration 15, loss = 0.34795980\n",
            "Iteration 16, loss = 0.33727537\n",
            "Iteration 17, loss = 0.32496282\n",
            "Iteration 18, loss = 0.31699187\n",
            "Iteration 19, loss = 0.30589577\n",
            "Iteration 20, loss = 0.29911136\n",
            "Iteration 21, loss = 0.29023551\n",
            "Iteration 22, loss = 0.28392638\n",
            "Iteration 23, loss = 0.27902606\n",
            "Iteration 24, loss = 0.27248241\n",
            "Iteration 25, loss = 0.26686767\n",
            "Iteration 26, loss = 0.26365117\n",
            "Iteration 27, loss = 0.25791583\n",
            "Iteration 28, loss = 0.25261271\n",
            "Iteration 29, loss = 0.24848111\n",
            "Iteration 30, loss = 0.24586211\n",
            "Iteration 31, loss = 0.24228999\n",
            "Iteration 32, loss = 0.23845215\n",
            "Iteration 33, loss = 0.23748472\n",
            "Iteration 34, loss = 0.23338525\n",
            "Iteration 35, loss = 0.23125496\n",
            "Iteration 36, loss = 0.22878888\n",
            "Iteration 37, loss = 0.22722042\n",
            "Iteration 38, loss = 0.22338580\n",
            "Iteration 39, loss = 0.22280573\n",
            "Iteration 40, loss = 0.21976221\n",
            "Iteration 41, loss = 0.21854379\n",
            "Iteration 42, loss = 0.21577088\n",
            "Iteration 43, loss = 0.21366994\n",
            "Iteration 44, loss = 0.21214248\n",
            "Iteration 45, loss = 0.21006901\n",
            "Iteration 46, loss = 0.20931327\n",
            "Iteration 47, loss = 0.20857388\n",
            "Iteration 48, loss = 0.20431787\n",
            "Iteration 49, loss = 0.20245708\n",
            "Iteration 50, loss = 0.20122275\n",
            "Iteration 51, loss = 0.20093938\n",
            "Iteration 52, loss = 0.19971756\n",
            "Iteration 53, loss = 0.19578619\n",
            "Iteration 54, loss = 0.19608472\n",
            "Iteration 55, loss = 0.19382904\n",
            "Iteration 56, loss = 0.19210121\n",
            "Iteration 57, loss = 0.18940132\n",
            "Iteration 58, loss = 0.18818101\n",
            "Iteration 59, loss = 0.18538668\n",
            "Iteration 60, loss = 0.18610449\n",
            "Iteration 61, loss = 0.18436805\n",
            "Iteration 62, loss = 0.18348025\n",
            "Iteration 63, loss = 0.18049878\n",
            "Iteration 64, loss = 0.17964120\n",
            "Iteration 65, loss = 0.17792853\n",
            "Iteration 66, loss = 0.17693498\n",
            "Iteration 67, loss = 0.17641346\n",
            "Iteration 68, loss = 0.17429770\n",
            "Iteration 69, loss = 0.17270451\n",
            "Iteration 70, loss = 0.17222318\n",
            "Iteration 71, loss = 0.16995463\n",
            "Iteration 72, loss = 0.16918849\n",
            "Iteration 73, loss = 0.16825621\n",
            "Iteration 74, loss = 0.16690377\n",
            "Iteration 75, loss = 0.16581155\n",
            "Iteration 76, loss = 0.16554878\n",
            "Iteration 77, loss = 0.16375223\n",
            "Iteration 78, loss = 0.16346183\n",
            "Iteration 79, loss = 0.16142712\n",
            "Iteration 80, loss = 0.16003992\n",
            "Iteration 81, loss = 0.15931989\n",
            "Iteration 82, loss = 0.16015291\n",
            "Iteration 83, loss = 0.15804519\n",
            "Iteration 84, loss = 0.15800932\n",
            "Iteration 85, loss = 0.15713372\n",
            "Iteration 86, loss = 0.15678867\n",
            "Iteration 87, loss = 0.15546688\n",
            "Iteration 88, loss = 0.15439985\n",
            "Iteration 89, loss = 0.15409160\n",
            "Iteration 90, loss = 0.15256357\n",
            "Iteration 91, loss = 0.15279618\n",
            "Iteration 92, loss = 0.15163472\n",
            "Iteration 93, loss = 0.15163504\n",
            "Iteration 94, loss = 0.15092233\n",
            "Iteration 95, loss = 0.15024851\n",
            "Iteration 96, loss = 0.14925206\n",
            "Iteration 97, loss = 0.14957069\n",
            "Iteration 98, loss = 0.14854132\n",
            "Iteration 99, loss = 0.14727015\n",
            "Iteration 100, loss = 0.14693156\n",
            "Iteration 101, loss = 0.14687048\n",
            "Iteration 102, loss = 0.14654443\n",
            "Iteration 103, loss = 0.14596228\n",
            "Iteration 104, loss = 0.14550082\n",
            "Iteration 105, loss = 0.14412525\n",
            "Iteration 106, loss = 0.14396588\n",
            "Iteration 107, loss = 0.14307885\n",
            "Iteration 108, loss = 0.14309321\n",
            "Iteration 109, loss = 0.14249724\n",
            "Iteration 110, loss = 0.14150759\n",
            "Iteration 111, loss = 0.14133546\n",
            "Iteration 112, loss = 0.14134924\n",
            "Iteration 113, loss = 0.14116415\n",
            "Iteration 114, loss = 0.14119149\n",
            "Iteration 115, loss = 0.13992628\n",
            "Iteration 116, loss = 0.14008785\n",
            "Iteration 117, loss = 0.13925422\n",
            "Iteration 118, loss = 0.13789617\n",
            "Iteration 119, loss = 0.13817736\n",
            "Iteration 120, loss = 0.13797893\n",
            "Iteration 121, loss = 0.13648507\n",
            "Iteration 122, loss = 0.13770658\n",
            "Iteration 123, loss = 0.13720262\n",
            "Iteration 124, loss = 0.13671251\n",
            "Iteration 125, loss = 0.13576710\n",
            "Iteration 126, loss = 0.13568837\n",
            "Iteration 127, loss = 0.13538269\n",
            "Iteration 128, loss = 0.13511749\n",
            "Iteration 129, loss = 0.13473732\n",
            "Iteration 130, loss = 0.13480231\n",
            "Iteration 131, loss = 0.13350272\n",
            "Iteration 132, loss = 0.13335644\n",
            "Iteration 133, loss = 0.13323698\n",
            "Iteration 134, loss = 0.13264159\n",
            "Iteration 135, loss = 0.13295671\n",
            "Iteration 136, loss = 0.13383313\n",
            "Iteration 137, loss = 0.13301969\n",
            "Iteration 138, loss = 0.13262868\n",
            "Iteration 139, loss = 0.13166230\n",
            "Iteration 140, loss = 0.13132836\n",
            "Iteration 141, loss = 0.13136692\n",
            "Iteration 142, loss = 0.13209843\n",
            "Iteration 143, loss = 0.13168786\n",
            "Iteration 144, loss = 0.13189554\n",
            "Iteration 145, loss = 0.13017970\n",
            "Iteration 146, loss = 0.13074757\n",
            "Iteration 147, loss = 0.12991734\n",
            "Iteration 148, loss = 0.13053866\n",
            "Iteration 149, loss = 0.13003812\n",
            "Iteration 150, loss = 0.12932403\n",
            "Iteration 151, loss = 0.12909267\n",
            "Iteration 152, loss = 0.12925271\n",
            "Iteration 153, loss = 0.12875843\n",
            "Iteration 154, loss = 0.12972400\n",
            "Iteration 155, loss = 0.12936680\n",
            "Iteration 156, loss = 0.12931511\n",
            "Iteration 157, loss = 0.12911273\n",
            "Iteration 158, loss = 0.12864072\n",
            "Iteration 159, loss = 0.12850305\n",
            "Iteration 160, loss = 0.12789375\n",
            "Iteration 161, loss = 0.12814180\n",
            "Iteration 162, loss = 0.12714383\n",
            "Iteration 163, loss = 0.12758656\n",
            "Iteration 164, loss = 0.12767502\n",
            "Iteration 165, loss = 0.12726215\n",
            "Iteration 166, loss = 0.12720726\n",
            "Iteration 167, loss = 0.12666714\n",
            "Iteration 168, loss = 0.12653820\n",
            "Iteration 169, loss = 0.12701633\n",
            "Iteration 170, loss = 0.12687077\n",
            "Iteration 171, loss = 0.12591812\n",
            "Iteration 172, loss = 0.12692022\n",
            "Iteration 173, loss = 0.12705136\n",
            "Iteration 174, loss = 0.12621555\n",
            "Iteration 175, loss = 0.12591787\n",
            "Iteration 176, loss = 0.12583812\n",
            "Iteration 177, loss = 0.12586506\n",
            "Iteration 178, loss = 0.12494496\n",
            "Iteration 179, loss = 0.12483616\n",
            "Iteration 180, loss = 0.12487789\n",
            "Iteration 181, loss = 0.12482449\n",
            "Iteration 182, loss = 0.12441834\n",
            "Iteration 183, loss = 0.12738936\n",
            "Iteration 184, loss = 0.12476799\n",
            "Iteration 185, loss = 0.12311664\n",
            "Iteration 186, loss = 0.12371307\n",
            "Iteration 187, loss = 0.12375332\n",
            "Iteration 188, loss = 0.12365887\n",
            "Iteration 189, loss = 0.12407818\n",
            "Iteration 190, loss = 0.12307095\n",
            "Iteration 191, loss = 0.12451621\n",
            "Iteration 192, loss = 0.12361286\n",
            "Iteration 193, loss = 0.12328069\n",
            "Iteration 194, loss = 0.12434873\n",
            "Iteration 195, loss = 0.12379362\n",
            "Iteration 196, loss = 0.12222909\n",
            "Iteration 197, loss = 0.12228987\n",
            "Iteration 198, loss = 0.12202620\n",
            "Iteration 199, loss = 0.12311816\n",
            "Iteration 200, loss = 0.12213084\n",
            "Iteration 201, loss = 0.12238717\n",
            "Iteration 202, loss = 0.12246791\n",
            "Iteration 203, loss = 0.12283698\n",
            "Iteration 204, loss = 0.12277762\n",
            "Iteration 205, loss = 0.12170413\n",
            "Iteration 206, loss = 0.12161351\n",
            "Iteration 207, loss = 0.12216289\n",
            "Iteration 208, loss = 0.12092968\n",
            "Iteration 209, loss = 0.12100245\n",
            "Iteration 210, loss = 0.12179384\n",
            "Iteration 211, loss = 0.12118063\n",
            "Iteration 212, loss = 0.12126096\n",
            "Iteration 213, loss = 0.12076136\n",
            "Iteration 214, loss = 0.12128717\n",
            "Iteration 215, loss = 0.12143111\n",
            "Iteration 216, loss = 0.12044229\n",
            "Iteration 217, loss = 0.12025248\n",
            "Iteration 218, loss = 0.12154062\n",
            "Iteration 219, loss = 0.12032574\n",
            "Iteration 220, loss = 0.11920126\n",
            "Iteration 221, loss = 0.12072956\n",
            "Iteration 222, loss = 0.12062434\n",
            "Iteration 223, loss = 0.11998546\n",
            "Iteration 224, loss = 0.11990664\n",
            "Iteration 225, loss = 0.11917424\n",
            "Iteration 226, loss = 0.11958358\n",
            "Iteration 227, loss = 0.11954686\n",
            "Iteration 228, loss = 0.11936978\n",
            "Iteration 229, loss = 0.12012078\n",
            "Iteration 230, loss = 0.11930126\n",
            "Iteration 231, loss = 0.11997549\n",
            "Training loss did not improve more than tol=0.000100 for 10 consecutive epochs. Stopping.\n"
          ],
          "name": "stdout"
        },
        {
          "output_type": "execute_result",
          "data": {
            "text/plain": [
              "MLPClassifier(activation='relu', alpha=0.0001, batch_size='auto', beta_1=0.9,\n",
              "       beta_2=0.999, early_stopping=False, epsilon=1e-08,\n",
              "       hidden_layer_sizes=(36, 6, 6, 12), learning_rate='constant',\n",
              "       learning_rate_init=0.0011, max_iter=250, momentum=0.9,\n",
              "       n_iter_no_change=10, nesterovs_momentum=True, power_t=0.5,\n",
              "       random_state=1, shuffle=True, solver='adam', tol=0.0001,\n",
              "       validation_fraction=0.1, verbose=True, warm_start=False)"
            ]
          },
          "metadata": {
            "tags": []
          },
          "execution_count": 787
        }
      ]
    },
    {
      "cell_type": "code",
      "metadata": {
        "id": "31Q-crCgKJur",
        "colab_type": "code",
        "colab": {
          "base_uri": "https://localhost:8080/",
          "height": 34
        },
        "outputId": "e88f952e-abb6-495f-890b-644776090f4f"
      },
      "source": [
        "clf_ann_model.score(X_test, y_test)"
      ],
      "execution_count": null,
      "outputs": [
        {
          "output_type": "execute_result",
          "data": {
            "text/plain": [
              "0.9611666666666666"
            ]
          },
          "metadata": {
            "tags": []
          },
          "execution_count": 788
        }
      ]
    },
    {
      "cell_type": "code",
      "metadata": {
        "id": "bvXacs1wXsci",
        "colab_type": "code",
        "colab": {
          "base_uri": "https://localhost:8080/",
          "height": 238
        },
        "outputId": "87cc9547-dfe0-425a-9131-25d7d3cdea38"
      },
      "source": [
        "clf_ann_model.predict_proba(X_test)"
      ],
      "execution_count": null,
      "outputs": [
        {
          "output_type": "execute_result",
          "data": {
            "text/plain": [
              "array([[4.32156672e-05, 1.30615276e-04, 9.98667702e-01, 1.82701831e-04,\n",
              "        6.47432989e-06, 9.69290689e-04],\n",
              "       [8.56002126e-04, 4.69462443e-01, 5.24961078e-01, 4.71167562e-03,\n",
              "        8.76118912e-06, 4.00267907e-08],\n",
              "       [7.48339314e-04, 2.25456000e-04, 3.35635863e-05, 1.63112318e-03,\n",
              "        4.40834233e-04, 9.96920684e-01],\n",
              "       ...,\n",
              "       [6.58313142e-04, 5.44867191e-06, 9.54805589e-01, 9.33398892e-04,\n",
              "        9.26061294e-06, 4.35879899e-02],\n",
              "       [3.96945664e-03, 4.73170805e-04, 6.75882670e-03, 3.77610421e-04,\n",
              "        9.55799426e-01, 3.26215098e-02],\n",
              "       [1.60443488e-02, 2.66569984e-03, 2.24070395e-02, 1.56358915e-02,\n",
              "        8.09895783e-01, 1.33351238e-01]])"
            ]
          },
          "metadata": {
            "tags": []
          },
          "execution_count": 789
        }
      ]
    },
    {
      "cell_type": "code",
      "metadata": {
        "id": "UCNA2NvLXszR",
        "colab_type": "code",
        "colab": {}
      },
      "source": [
        "y_pred = clf_ann_model.predict(X_test)"
      ],
      "execution_count": null,
      "outputs": []
    },
    {
      "cell_type": "code",
      "metadata": {
        "id": "46fjmlXnT5x6",
        "colab_type": "code",
        "colab": {}
      },
      "source": [
        "def accuracy(confusion_matrix):\n",
        "   diagonal_sum = confusion_matrix.trace()\n",
        "   sum_of_all_elements = confusion_matrix.sum()\n",
        "   return diagonal_sum / sum_of_all_elements"
      ],
      "execution_count": null,
      "outputs": []
    },
    {
      "cell_type": "code",
      "metadata": {
        "id": "MIFp2GNoT6MD",
        "colab_type": "code",
        "colab": {
          "base_uri": "https://localhost:8080/",
          "height": 119
        },
        "outputId": "b5a36118-5a85-48a7-8e6f-ec722947b7c4"
      },
      "source": [
        "#Importing Confusion Matrix\n",
        "from sklearn.metrics import confusion_matrix, classification_report\n",
        "#Comparing the predictions against the actual observations in y_val\n",
        "cm = confusion_matrix(y_pred, y_test)\n",
        "cm"
      ],
      "execution_count": null,
      "outputs": [
        {
          "output_type": "execute_result",
          "data": {
            "text/plain": [
              "array([[978,  14,   2,   7,   8,   3],\n",
              "       [  7, 946,   9,   9,  11,   8],\n",
              "       [  4,   8, 962,   9,   4,   5],\n",
              "       [  9,   8,   9, 954,  12,   4],\n",
              "       [  4,  14,   5,  11, 955,   8],\n",
              "       [  0,   9,  14,  10,   8, 972]])"
            ]
          },
          "metadata": {
            "tags": []
          },
          "execution_count": 792
        }
      ]
    },
    {
      "cell_type": "code",
      "metadata": {
        "id": "Qvx7mE3LUsCu",
        "colab_type": "code",
        "colab": {
          "base_uri": "https://localhost:8080/",
          "height": 34
        },
        "outputId": "5edfbde4-549c-4f68-c1bb-b32ba7bbe0d4"
      },
      "source": [
        "#Printing the accuracy\n",
        "print(\"Accuracy of MLPClassifier : \", accuracy(cm))"
      ],
      "execution_count": null,
      "outputs": [
        {
          "output_type": "stream",
          "text": [
            "Accuracy of MLPClassifier :  0.9611666666666666\n"
          ],
          "name": "stdout"
        }
      ]
    },
    {
      "cell_type": "code",
      "metadata": {
        "id": "LsreFEC2lY8f",
        "colab_type": "code",
        "colab": {
          "base_uri": "https://localhost:8080/",
          "height": 238
        },
        "outputId": "0ef4d055-7748-46a4-b59e-4c945452af21"
      },
      "source": [
        "print(classification_report(y_pred,y_test))"
      ],
      "execution_count": null,
      "outputs": [
        {
          "output_type": "stream",
          "text": [
            "                       precision    recall  f1-score   support\n",
            "\n",
            "     advanced_backend       0.98      0.97      0.97      1012\n",
            "advanced_data_science       0.95      0.96      0.95       990\n",
            "   advanced_front_end       0.96      0.97      0.97       992\n",
            "     beginner_backend       0.95      0.96      0.96       996\n",
            "beginner_data_science       0.96      0.96      0.96       997\n",
            "   beginner_front_end       0.97      0.96      0.97      1013\n",
            "\n",
            "            micro avg       0.96      0.96      0.96      6000\n",
            "            macro avg       0.96      0.96      0.96      6000\n",
            "         weighted avg       0.96      0.96      0.96      6000\n",
            "\n"
          ],
          "name": "stdout"
        }
      ]
    }
  ]
}